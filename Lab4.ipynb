{
 "cells": [
  {
   "cell_type": "code",
   "execution_count": 1,
   "metadata": {},
   "outputs": [
    {
     "name": "stdout",
     "output_type": "stream",
     "text": [
      "Requirement already satisfied: psycopg2 in c:\\programdata\\anaconda3\\lib\\site-packages (2.8.3)\n"
     ]
    }
   ],
   "source": [
    "!pip install psycopg2"
   ]
  },
  {
   "cell_type": "code",
   "execution_count": 2,
   "metadata": {},
   "outputs": [],
   "source": [
    "import pandas\n",
    "import configparser\n",
    "import psycopg2"
   ]
  },
  {
   "cell_type": "code",
   "execution_count": 3,
   "metadata": {},
   "outputs": [],
   "source": [
    "config = configparser.ConfigParser()\n",
    "config.read('config.ini')\n",
    "\n",
    "\n",
    "host = config['myaws']['host']  \n",
    "user = config['myaws']['user'] \n",
    "pwd = config['myaws']['pwd'] \n",
    "database = config['myaws']['database'] \n"
   ]
  },
  {
   "cell_type": "code",
   "execution_count": 37,
   "metadata": {},
   "outputs": [],
   "source": [
    "conn = psycopg2.connect(host = host, user = user, password = pwd, dbname = database)"
   ]
  },
  {
   "cell_type": "code",
   "execution_count": 38,
   "metadata": {},
   "outputs": [],
   "source": [
    "cur = conn.cursor() "
   ]
  },
  {
   "cell_type": "code",
   "execution_count": 6,
   "metadata": {},
   "outputs": [],
   "source": [
    "sql_statement = '''\n",
    "            select * from student_gp19\n",
    "            '''"
   ]
  },
  {
   "cell_type": "code",
   "execution_count": 7,
   "metadata": {},
   "outputs": [],
   "source": [
    "cur.execute(sql_statement)"
   ]
  },
  {
   "cell_type": "code",
   "execution_count": 8,
   "metadata": {},
   "outputs": [
    {
     "data": {
      "text/plain": [
       "('tomcally68@dukes.jmu.edu                                                                            ',\n",
       " 'Tom Callaghan                                                                                       ',\n",
       " 'Business            ')"
      ]
     },
     "execution_count": 8,
     "metadata": {},
     "output_type": "execute_result"
    }
   ],
   "source": [
    "cur.fetchone()"
   ]
  },
  {
   "cell_type": "code",
   "execution_count": 9,
   "metadata": {},
   "outputs": [
    {
     "name": "stdout",
     "output_type": "stream",
     "text": [
      "('Franwantsme18@dukes.jmu.edu                                                                         ', 'Fran Fantom                                                                                         ', 'Yoga                ')\n",
      "('billwyrnes66@dukes.jmu.edu                                                                          ', 'Bill Wyrnes                                                                                         ', 'SMAD                ')\n",
      "('tannercrack42@dukes.jmu.edu                                                                         ', 'Tanner Hunt                                                                                         ', 'Chemistry           ')\n",
      "('larryneal69@dukes.jmu.edu                                                                           ', 'Lenard Neal                                                                                         ', 'IA                  ')\n",
      "('jlan@dukes.jmu.edu                                                                                  ', 'jorge lanham                                                                                        ', 'GS                  ')\n",
      "('patty@dukes.jmu.edu                                                                                 ', 'patty ice                                                                                           ', 'IA                  ')\n"
     ]
    }
   ],
   "source": [
    "for result in cur.fetchall():\n",
    "    print(result)"
   ]
  },
  {
   "cell_type": "markdown",
   "metadata": {},
   "source": [
    "# Q1"
   ]
  },
  {
   "cell_type": "code",
   "execution_count": 10,
   "metadata": {},
   "outputs": [
    {
     "data": {
      "text/html": [
       "<div>\n",
       "<style scoped>\n",
       "    .dataframe tbody tr th:only-of-type {\n",
       "        vertical-align: middle;\n",
       "    }\n",
       "\n",
       "    .dataframe tbody tr th {\n",
       "        vertical-align: top;\n",
       "    }\n",
       "\n",
       "    .dataframe thead th {\n",
       "        text-align: right;\n",
       "    }\n",
       "</style>\n",
       "<table border=\"1\" class=\"dataframe\">\n",
       "  <thead>\n",
       "    <tr style=\"text-align: right;\">\n",
       "      <th></th>\n",
       "      <th>email</th>\n",
       "      <th>name</th>\n",
       "      <th>major</th>\n",
       "    </tr>\n",
       "  </thead>\n",
       "  <tbody>\n",
       "    <tr>\n",
       "      <th>0</th>\n",
       "      <td>tomcally68@dukes.jmu.edu                      ...</td>\n",
       "      <td>Tom Callaghan                                 ...</td>\n",
       "      <td>Business</td>\n",
       "    </tr>\n",
       "    <tr>\n",
       "      <th>1</th>\n",
       "      <td>Franwantsme18@dukes.jmu.edu                   ...</td>\n",
       "      <td>Fran Fantom                                   ...</td>\n",
       "      <td>Yoga</td>\n",
       "    </tr>\n",
       "    <tr>\n",
       "      <th>2</th>\n",
       "      <td>billwyrnes66@dukes.jmu.edu                    ...</td>\n",
       "      <td>Bill Wyrnes                                   ...</td>\n",
       "      <td>SMAD</td>\n",
       "    </tr>\n",
       "    <tr>\n",
       "      <th>3</th>\n",
       "      <td>tannercrack42@dukes.jmu.edu                   ...</td>\n",
       "      <td>Tanner Hunt                                   ...</td>\n",
       "      <td>Chemistry</td>\n",
       "    </tr>\n",
       "    <tr>\n",
       "      <th>4</th>\n",
       "      <td>larryneal69@dukes.jmu.edu                     ...</td>\n",
       "      <td>Lenard Neal                                   ...</td>\n",
       "      <td>IA</td>\n",
       "    </tr>\n",
       "    <tr>\n",
       "      <th>5</th>\n",
       "      <td>jlan@dukes.jmu.edu                            ...</td>\n",
       "      <td>jorge lanham                                  ...</td>\n",
       "      <td>GS</td>\n",
       "    </tr>\n",
       "    <tr>\n",
       "      <th>6</th>\n",
       "      <td>patty@dukes.jmu.edu                           ...</td>\n",
       "      <td>patty ice                                     ...</td>\n",
       "      <td>IA</td>\n",
       "    </tr>\n",
       "  </tbody>\n",
       "</table>\n",
       "</div>"
      ],
      "text/plain": [
       "                                               email  \\\n",
       "0  tomcally68@dukes.jmu.edu                      ...   \n",
       "1  Franwantsme18@dukes.jmu.edu                   ...   \n",
       "2  billwyrnes66@dukes.jmu.edu                    ...   \n",
       "3  tannercrack42@dukes.jmu.edu                   ...   \n",
       "4  larryneal69@dukes.jmu.edu                     ...   \n",
       "5  jlan@dukes.jmu.edu                            ...   \n",
       "6  patty@dukes.jmu.edu                           ...   \n",
       "\n",
       "                                                name                 major  \n",
       "0  Tom Callaghan                                 ...  Business              \n",
       "1  Fran Fantom                                   ...  Yoga                  \n",
       "2  Bill Wyrnes                                   ...  SMAD                  \n",
       "3  Tanner Hunt                                   ...  Chemistry             \n",
       "4  Lenard Neal                                   ...  IA                    \n",
       "5  jorge lanham                                  ...  GS                    \n",
       "6  patty ice                                     ...  IA                    "
      ]
     },
     "execution_count": 10,
     "metadata": {},
     "output_type": "execute_result"
    }
   ],
   "source": [
    "df = pandas.read_sql_query(sql_statement,conn)\n",
    "df[:]"
   ]
  },
  {
   "cell_type": "markdown",
   "metadata": {},
   "source": [
    "exploring data in python using pandas in GitHub\n"
   ]
  },
  {
   "cell_type": "markdown",
   "metadata": {},
   "source": [
    "# Q2"
   ]
  },
  {
   "cell_type": "code",
   "execution_count": 11,
   "metadata": {},
   "outputs": [],
   "source": [
    "sql_statement_two = '''\n",
    "            select \n",
    "            cname,\n",
    "            count(semail)\n",
    "            from enroll_list_gp19\n",
    "            group by cname\n",
    "            order by count(semail) desc\n",
    "            limit 1\n",
    "            '''"
   ]
  },
  {
   "cell_type": "code",
   "execution_count": 12,
   "metadata": {},
   "outputs": [
    {
     "data": {
      "text/html": [
       "<div>\n",
       "<style scoped>\n",
       "    .dataframe tbody tr th:only-of-type {\n",
       "        vertical-align: middle;\n",
       "    }\n",
       "\n",
       "    .dataframe tbody tr th {\n",
       "        vertical-align: top;\n",
       "    }\n",
       "\n",
       "    .dataframe thead th {\n",
       "        text-align: right;\n",
       "    }\n",
       "</style>\n",
       "<table border=\"1\" class=\"dataframe\">\n",
       "  <thead>\n",
       "    <tr style=\"text-align: right;\">\n",
       "      <th></th>\n",
       "      <th>cname</th>\n",
       "      <th>count</th>\n",
       "    </tr>\n",
       "  </thead>\n",
       "  <tbody>\n",
       "    <tr>\n",
       "      <th>0</th>\n",
       "      <td>IA300                                         ...</td>\n",
       "      <td>2</td>\n",
       "    </tr>\n",
       "  </tbody>\n",
       "</table>\n",
       "</div>"
      ],
      "text/plain": [
       "                                               cname  count\n",
       "0  IA300                                         ...      2"
      ]
     },
     "execution_count": 12,
     "metadata": {},
     "output_type": "execute_result"
    }
   ],
   "source": [
    "df = pandas.read_sql_query(sql_statement_two,conn)\n",
    "df[:]"
   ]
  },
  {
   "cell_type": "markdown",
   "metadata": {},
   "source": [
    "# Q3"
   ]
  },
  {
   "cell_type": "code",
   "execution_count": 13,
   "metadata": {},
   "outputs": [],
   "source": [
    "sql_statement_three = '''\n",
    "            select * from teacher_gp19\n",
    "            left join course_gp19 on teacher_gp19.email = course_gp19.temail\n",
    "            '''"
   ]
  },
  {
   "cell_type": "code",
   "execution_count": 14,
   "metadata": {},
   "outputs": [
    {
     "data": {
      "text/html": [
       "<div>\n",
       "<style scoped>\n",
       "    .dataframe tbody tr th:only-of-type {\n",
       "        vertical-align: middle;\n",
       "    }\n",
       "\n",
       "    .dataframe tbody tr th {\n",
       "        vertical-align: top;\n",
       "    }\n",
       "\n",
       "    .dataframe thead th {\n",
       "        text-align: right;\n",
       "    }\n",
       "</style>\n",
       "<table border=\"1\" class=\"dataframe\">\n",
       "  <thead>\n",
       "    <tr style=\"text-align: right;\">\n",
       "      <th></th>\n",
       "      <th>email</th>\n",
       "      <th>name</th>\n",
       "      <th>office</th>\n",
       "      <th>name</th>\n",
       "      <th>room</th>\n",
       "      <th>temail</th>\n",
       "    </tr>\n",
       "  </thead>\n",
       "  <tbody>\n",
       "    <tr>\n",
       "      <th>0</th>\n",
       "      <td>moore8ka@jmu.edu                              ...</td>\n",
       "      <td>Kathleen Moore                                ...</td>\n",
       "      <td>ISAT 116</td>\n",
       "      <td>IA240                                         ...</td>\n",
       "      <td>ENGEO 2010</td>\n",
       "      <td>moore8ka@jmu.edu                              ...</td>\n",
       "    </tr>\n",
       "    <tr>\n",
       "      <th>1</th>\n",
       "      <td>hendrinx@jmu.edu                              ...</td>\n",
       "      <td>Noel Hendrickson                              ...</td>\n",
       "      <td>ISAT 223</td>\n",
       "      <td>IA313                                         ...</td>\n",
       "      <td>ENGEO 2202</td>\n",
       "      <td>hendrinx@jmu.edu                              ...</td>\n",
       "    </tr>\n",
       "    <tr>\n",
       "      <th>2</th>\n",
       "      <td>waltontr@jmu.edu                              ...</td>\n",
       "      <td>Timothy Walton                                ...</td>\n",
       "      <td>ISAT 326</td>\n",
       "      <td>IA200                                         ...</td>\n",
       "      <td>ENGEO 1100</td>\n",
       "      <td>waltontr@jmu.edu                              ...</td>\n",
       "    </tr>\n",
       "    <tr>\n",
       "      <th>3</th>\n",
       "      <td>moore8ka@jmu.edu                              ...</td>\n",
       "      <td>Kathleen Moore                                ...</td>\n",
       "      <td>ISAT 116</td>\n",
       "      <td>IA 420                                        ...</td>\n",
       "      <td>ISAT 69</td>\n",
       "      <td>moore8ka@jmu.edu                              ...</td>\n",
       "    </tr>\n",
       "    <tr>\n",
       "      <th>4</th>\n",
       "      <td>stevenG@dukes.jmu.edu                         ...</td>\n",
       "      <td>Steven Gordan                                 ...</td>\n",
       "      <td>isat 336</td>\n",
       "      <td>new course                                    ...</td>\n",
       "      <td>isat 337</td>\n",
       "      <td>stevenG@dukes.jmu.edu                         ...</td>\n",
       "    </tr>\n",
       "    <tr>\n",
       "      <th>5</th>\n",
       "      <td>stevenG@dukes.jmu.edu                         ...</td>\n",
       "      <td>Steven Gordan                                 ...</td>\n",
       "      <td>isat 336</td>\n",
       "      <td>IA300                                         ...</td>\n",
       "      <td>ENGEO 1204</td>\n",
       "      <td>stevenG@dukes.jmu.edu                         ...</td>\n",
       "    </tr>\n",
       "    <tr>\n",
       "      <th>6</th>\n",
       "      <td>stevenG@dukes.jmu.edu                         ...</td>\n",
       "      <td>Steven Gordan                                 ...</td>\n",
       "      <td>isat 336</td>\n",
       "      <td>IA210                                         ...</td>\n",
       "      <td>ISAT 112</td>\n",
       "      <td>stevenG@dukes.jmu.edu                         ...</td>\n",
       "    </tr>\n",
       "    <tr>\n",
       "      <th>7</th>\n",
       "      <td>new_email1                                    ...</td>\n",
       "      <td>new_name1                                     ...</td>\n",
       "      <td>new_office1</td>\n",
       "      <td>None</td>\n",
       "      <td>None</td>\n",
       "      <td>None</td>\n",
       "    </tr>\n",
       "    <tr>\n",
       "      <th>8</th>\n",
       "      <td>marrinsp@jmu.edu                              ...</td>\n",
       "      <td>Stephen Marrin                                ...</td>\n",
       "      <td>ENGEO 2214</td>\n",
       "      <td>None</td>\n",
       "      <td>None</td>\n",
       "      <td>None</td>\n",
       "    </tr>\n",
       "  </tbody>\n",
       "</table>\n",
       "</div>"
      ],
      "text/plain": [
       "                                               email  \\\n",
       "0  moore8ka@jmu.edu                              ...   \n",
       "1  hendrinx@jmu.edu                              ...   \n",
       "2  waltontr@jmu.edu                              ...   \n",
       "3  moore8ka@jmu.edu                              ...   \n",
       "4  stevenG@dukes.jmu.edu                         ...   \n",
       "5  stevenG@dukes.jmu.edu                         ...   \n",
       "6  stevenG@dukes.jmu.edu                         ...   \n",
       "7  new_email1                                    ...   \n",
       "8  marrinsp@jmu.edu                              ...   \n",
       "\n",
       "                                                name                office  \\\n",
       "0  Kathleen Moore                                ...  ISAT 116               \n",
       "1  Noel Hendrickson                              ...  ISAT 223               \n",
       "2  Timothy Walton                                ...  ISAT 326               \n",
       "3  Kathleen Moore                                ...  ISAT 116               \n",
       "4  Steven Gordan                                 ...  isat 336               \n",
       "5  Steven Gordan                                 ...  isat 336               \n",
       "6  Steven Gordan                                 ...  isat 336               \n",
       "7  new_name1                                     ...  new_office1            \n",
       "8  Stephen Marrin                                ...  ENGEO 2214             \n",
       "\n",
       "                                                name                  room  \\\n",
       "0  IA240                                         ...  ENGEO 2010             \n",
       "1  IA313                                         ...  ENGEO 2202             \n",
       "2  IA200                                         ...  ENGEO 1100             \n",
       "3  IA 420                                        ...  ISAT 69                \n",
       "4  new course                                    ...  isat 337               \n",
       "5  IA300                                         ...  ENGEO 1204             \n",
       "6  IA210                                         ...  ISAT 112               \n",
       "7                                               None                  None   \n",
       "8                                               None                  None   \n",
       "\n",
       "                                              temail  \n",
       "0  moore8ka@jmu.edu                              ...  \n",
       "1  hendrinx@jmu.edu                              ...  \n",
       "2  waltontr@jmu.edu                              ...  \n",
       "3  moore8ka@jmu.edu                              ...  \n",
       "4  stevenG@dukes.jmu.edu                         ...  \n",
       "5  stevenG@dukes.jmu.edu                         ...  \n",
       "6  stevenG@dukes.jmu.edu                         ...  \n",
       "7                                               None  \n",
       "8                                               None  "
      ]
     },
     "execution_count": 14,
     "metadata": {},
     "output_type": "execute_result"
    }
   ],
   "source": [
    "df = pandas.read_sql_query(sql_statement_three,conn)\n",
    "df[:]"
   ]
  },
  {
   "cell_type": "markdown",
   "metadata": {},
   "source": [
    "# Q4"
   ]
  },
  {
   "cell_type": "code",
   "execution_count": 15,
   "metadata": {},
   "outputs": [],
   "source": [
    "sql_statement_four = '''\n",
    "            select teacher_gp19.name as tname,\n",
    "            count (course_gp19.name) as course_num\n",
    "            from teacher_gp19\n",
    "            inner join course_gp19\n",
    "            on teacher_gp19.email = course_gp19.temail\n",
    "            group by teacher_gp19.name\n",
    "            order by count (course_gp19) desc\n",
    "            limit 1\n",
    "            '''"
   ]
  },
  {
   "cell_type": "code",
   "execution_count": 16,
   "metadata": {},
   "outputs": [
    {
     "data": {
      "text/html": [
       "<div>\n",
       "<style scoped>\n",
       "    .dataframe tbody tr th:only-of-type {\n",
       "        vertical-align: middle;\n",
       "    }\n",
       "\n",
       "    .dataframe tbody tr th {\n",
       "        vertical-align: top;\n",
       "    }\n",
       "\n",
       "    .dataframe thead th {\n",
       "        text-align: right;\n",
       "    }\n",
       "</style>\n",
       "<table border=\"1\" class=\"dataframe\">\n",
       "  <thead>\n",
       "    <tr style=\"text-align: right;\">\n",
       "      <th></th>\n",
       "      <th>tname</th>\n",
       "      <th>course_num</th>\n",
       "    </tr>\n",
       "  </thead>\n",
       "  <tbody>\n",
       "    <tr>\n",
       "      <th>0</th>\n",
       "      <td>Steven Gordan                                 ...</td>\n",
       "      <td>3</td>\n",
       "    </tr>\n",
       "  </tbody>\n",
       "</table>\n",
       "</div>"
      ],
      "text/plain": [
       "                                               tname  course_num\n",
       "0  Steven Gordan                                 ...           3"
      ]
     },
     "execution_count": 16,
     "metadata": {},
     "output_type": "execute_result"
    }
   ],
   "source": [
    "df = pandas.read_sql_query(sql_statement_four,conn)\n",
    "df[:]"
   ]
  },
  {
   "cell_type": "markdown",
   "metadata": {},
   "source": [
    "# Q5"
   ]
  },
  {
   "cell_type": "code",
   "execution_count": 17,
   "metadata": {},
   "outputs": [
    {
     "name": "stdout",
     "output_type": "stream",
     "text": [
      "\n",
      "                       insert into teacher_gp19(email,name,office)\n",
      "                       values('new_email1','new_name1','new_office1')\n",
      "\n",
      "                       \n"
     ]
    }
   ],
   "source": [
    "sql_insert_statement = '''\n",
    "                       insert into teacher_gp19(email,name,office)\n",
    "                       values('{}','{}','{}')\n",
    "\n",
    "                       '''.format('new_email1','new_name1','new_office1')\n",
    "print(sql_insert_statement)"
   ]
  },
  {
   "cell_type": "code",
   "execution_count": null,
   "metadata": {},
   "outputs": [],
   "source": [
    "cur.execute(sql_insert_statement)"
   ]
  },
  {
   "cell_type": "code",
   "execution_count": null,
   "metadata": {},
   "outputs": [],
   "source": [
    "conn.commit()"
   ]
  },
  {
   "cell_type": "code",
   "execution_count": 18,
   "metadata": {},
   "outputs": [
    {
     "data": {
      "text/html": [
       "<div>\n",
       "<style scoped>\n",
       "    .dataframe tbody tr th:only-of-type {\n",
       "        vertical-align: middle;\n",
       "    }\n",
       "\n",
       "    .dataframe tbody tr th {\n",
       "        vertical-align: top;\n",
       "    }\n",
       "\n",
       "    .dataframe thead th {\n",
       "        text-align: right;\n",
       "    }\n",
       "</style>\n",
       "<table border=\"1\" class=\"dataframe\">\n",
       "  <thead>\n",
       "    <tr style=\"text-align: right;\">\n",
       "      <th></th>\n",
       "      <th>email</th>\n",
       "      <th>name</th>\n",
       "      <th>office</th>\n",
       "    </tr>\n",
       "  </thead>\n",
       "  <tbody>\n",
       "    <tr>\n",
       "      <th>0</th>\n",
       "      <td>hendrinx@jmu.edu                              ...</td>\n",
       "      <td>Noel Hendrickson                              ...</td>\n",
       "      <td>ISAT 223</td>\n",
       "    </tr>\n",
       "    <tr>\n",
       "      <th>1</th>\n",
       "      <td>marrinsp@jmu.edu                              ...</td>\n",
       "      <td>Stephen Marrin                                ...</td>\n",
       "      <td>ENGEO 2214</td>\n",
       "    </tr>\n",
       "    <tr>\n",
       "      <th>2</th>\n",
       "      <td>moore8ka@jmu.edu                              ...</td>\n",
       "      <td>Kathleen Moore                                ...</td>\n",
       "      <td>ISAT 116</td>\n",
       "    </tr>\n",
       "    <tr>\n",
       "      <th>3</th>\n",
       "      <td>waltontr@jmu.edu                              ...</td>\n",
       "      <td>Timothy Walton                                ...</td>\n",
       "      <td>ISAT 326</td>\n",
       "    </tr>\n",
       "    <tr>\n",
       "      <th>4</th>\n",
       "      <td>stevenG@dukes.jmu.edu                         ...</td>\n",
       "      <td>Steven Gordan                                 ...</td>\n",
       "      <td>isat 336</td>\n",
       "    </tr>\n",
       "    <tr>\n",
       "      <th>5</th>\n",
       "      <td>new_email1                                    ...</td>\n",
       "      <td>new_name1                                     ...</td>\n",
       "      <td>new_office1</td>\n",
       "    </tr>\n",
       "  </tbody>\n",
       "</table>\n",
       "</div>"
      ],
      "text/plain": [
       "                                               email  \\\n",
       "0  hendrinx@jmu.edu                              ...   \n",
       "1  marrinsp@jmu.edu                              ...   \n",
       "2  moore8ka@jmu.edu                              ...   \n",
       "3  waltontr@jmu.edu                              ...   \n",
       "4  stevenG@dukes.jmu.edu                         ...   \n",
       "5  new_email1                                    ...   \n",
       "\n",
       "                                                name                office  \n",
       "0  Noel Hendrickson                              ...  ISAT 223              \n",
       "1  Stephen Marrin                                ...  ENGEO 2214            \n",
       "2  Kathleen Moore                                ...  ISAT 116              \n",
       "3  Timothy Walton                                ...  ISAT 326              \n",
       "4  Steven Gordan                                 ...  isat 336              \n",
       "5  new_name1                                     ...  new_office1           "
      ]
     },
     "execution_count": 18,
     "metadata": {},
     "output_type": "execute_result"
    }
   ],
   "source": [
    "df = pandas.read_sql_query('''select * from teacher_gp19''',conn)\n",
    "df[:]"
   ]
  },
  {
   "cell_type": "markdown",
   "metadata": {},
   "source": [
    "# Q6"
   ]
  },
  {
   "cell_type": "code",
   "execution_count": 39,
   "metadata": {},
   "outputs": [
    {
     "name": "stdout",
     "output_type": "stream",
     "text": [
      "\n",
      "                       update course_gp19\n",
      "                       set temail = 'new_email1'\n",
      "                       where temail = 'marrinsp@jmu.edu';\n",
      "                       delete from teacher_gp19\n",
      "                       where email = 'marrinsp@jmu.edu'\n",
      "\n",
      "                       \n"
     ]
    }
   ],
   "source": [
    "sql_statement_five = '''\n",
    "                       update course_gp19\n",
    "                       set temail = 'new_email1'\n",
    "                       where temail = 'marrinsp@jmu.edu';\n",
    "                       delete from teacher_gp19\n",
    "                       where email = 'marrinsp@jmu.edu'\n",
    "\n",
    "                       '''\n",
    "print(sql_statement_five)"
   ]
  },
  {
   "cell_type": "code",
   "execution_count": 40,
   "metadata": {},
   "outputs": [],
   "source": [
    "cur.execute(sql_statement_five)"
   ]
  },
  {
   "cell_type": "code",
   "execution_count": 41,
   "metadata": {},
   "outputs": [],
   "source": [
    "conn.commit()"
   ]
  },
  {
   "cell_type": "code",
   "execution_count": 42,
   "metadata": {},
   "outputs": [
    {
     "data": {
      "text/html": [
       "<div>\n",
       "<style scoped>\n",
       "    .dataframe tbody tr th:only-of-type {\n",
       "        vertical-align: middle;\n",
       "    }\n",
       "\n",
       "    .dataframe tbody tr th {\n",
       "        vertical-align: top;\n",
       "    }\n",
       "\n",
       "    .dataframe thead th {\n",
       "        text-align: right;\n",
       "    }\n",
       "</style>\n",
       "<table border=\"1\" class=\"dataframe\">\n",
       "  <thead>\n",
       "    <tr style=\"text-align: right;\">\n",
       "      <th></th>\n",
       "      <th>name</th>\n",
       "      <th>room</th>\n",
       "      <th>temail</th>\n",
       "    </tr>\n",
       "  </thead>\n",
       "  <tbody>\n",
       "    <tr>\n",
       "      <th>0</th>\n",
       "      <td>IA240                                         ...</td>\n",
       "      <td>ENGEO 2010</td>\n",
       "      <td>moore8ka@jmu.edu                              ...</td>\n",
       "    </tr>\n",
       "    <tr>\n",
       "      <th>1</th>\n",
       "      <td>IA313                                         ...</td>\n",
       "      <td>ENGEO 2202</td>\n",
       "      <td>hendrinx@jmu.edu                              ...</td>\n",
       "    </tr>\n",
       "    <tr>\n",
       "      <th>2</th>\n",
       "      <td>IA200                                         ...</td>\n",
       "      <td>ENGEO 1100</td>\n",
       "      <td>waltontr@jmu.edu                              ...</td>\n",
       "    </tr>\n",
       "    <tr>\n",
       "      <th>3</th>\n",
       "      <td>IA 420                                        ...</td>\n",
       "      <td>ISAT 69</td>\n",
       "      <td>moore8ka@jmu.edu                              ...</td>\n",
       "    </tr>\n",
       "    <tr>\n",
       "      <th>4</th>\n",
       "      <td>new course                                    ...</td>\n",
       "      <td>isat 337</td>\n",
       "      <td>stevenG@dukes.jmu.edu                         ...</td>\n",
       "    </tr>\n",
       "    <tr>\n",
       "      <th>5</th>\n",
       "      <td>IA300                                         ...</td>\n",
       "      <td>ENGEO 1204</td>\n",
       "      <td>stevenG@dukes.jmu.edu                         ...</td>\n",
       "    </tr>\n",
       "    <tr>\n",
       "      <th>6</th>\n",
       "      <td>IA210                                         ...</td>\n",
       "      <td>ISAT 112</td>\n",
       "      <td>stevenG@dukes.jmu.edu                         ...</td>\n",
       "    </tr>\n",
       "  </tbody>\n",
       "</table>\n",
       "</div>"
      ],
      "text/plain": [
       "                                                name                  room  \\\n",
       "0  IA240                                         ...  ENGEO 2010             \n",
       "1  IA313                                         ...  ENGEO 2202             \n",
       "2  IA200                                         ...  ENGEO 1100             \n",
       "3  IA 420                                        ...  ISAT 69                \n",
       "4  new course                                    ...  isat 337               \n",
       "5  IA300                                         ...  ENGEO 1204             \n",
       "6  IA210                                         ...  ISAT 112               \n",
       "\n",
       "                                              temail  \n",
       "0  moore8ka@jmu.edu                              ...  \n",
       "1  hendrinx@jmu.edu                              ...  \n",
       "2  waltontr@jmu.edu                              ...  \n",
       "3  moore8ka@jmu.edu                              ...  \n",
       "4  stevenG@dukes.jmu.edu                         ...  \n",
       "5  stevenG@dukes.jmu.edu                         ...  \n",
       "6  stevenG@dukes.jmu.edu                         ...  "
      ]
     },
     "execution_count": 42,
     "metadata": {},
     "output_type": "execute_result"
    }
   ],
   "source": [
    "df = pandas.read_sql_query(\"\"\"select * from course_gp19\"\"\",conn)\n",
    "df[:]"
   ]
  },
  {
   "cell_type": "code",
   "execution_count": 36,
   "metadata": {},
   "outputs": [],
   "source": [
    "cur.close()\n",
    "conn.close()"
   ]
  },
  {
   "cell_type": "code",
   "execution_count": null,
   "metadata": {},
   "outputs": [],
   "source": []
  }
 ],
 "metadata": {
  "kernelspec": {
   "display_name": "Python 3",
   "language": "python",
   "name": "python3"
  },
  "language_info": {
   "codemirror_mode": {
    "name": "ipython",
    "version": 3
   },
   "file_extension": ".py",
   "mimetype": "text/x-python",
   "name": "python",
   "nbconvert_exporter": "python",
   "pygments_lexer": "ipython3",
   "version": "3.6.5"
  }
 },
 "nbformat": 4,
 "nbformat_minor": 2
}
